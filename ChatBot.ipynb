{
  "nbformat": 4,
  "nbformat_minor": 0,
  "metadata": {
    "colab": {
      "provenance": []
    },
    "kernelspec": {
      "name": "python3",
      "display_name": "Python 3"
    },
    "language_info": {
      "name": "python"
    }
  },
  "cells": [
    {
      "cell_type": "code",
      "execution_count": 1,
      "metadata": {
        "id": "QfTXjAOfyY5r"
      },
      "outputs": [],
      "source": [
        "import nltk\n",
        "from nltk.chat.util import Chat, reflections"
      ]
    },
    {
      "cell_type": "code",
      "source": [
        "# Define pairs of patterns and responses\n",
        "pairs = [\n",
        "    [\n",
        "        r\"hi|hello|hey\",\n",
        "        [\"Hello!\", \"Hey there!\", \"Hi!\"]\n",
        "    ],\n",
        "    [\n",
        "        r\"how are you ?\",\n",
        "        [\"I'm doing well, thank you!\", \"I'm great, thanks for asking!\"]\n",
        "    ],\n",
        "    [\n",
        "        r\"what is your name ?\",\n",
        "        [\"You can call me ChatBot.\", \"I'm just a simple ChatBot.\"]\n",
        "    ],\n",
        "    [\n",
        "        r\"what can you do ?\",\n",
        "        [\"I can answer basic questions and engage in conversation.\"]\n",
        "    ],\n",
        "    [\n",
        "        r\"quit|exit\",\n",
        "        [\"Bye! Take care.\", \"Goodbye!\", \"See you later!\"]\n",
        "    ],\n",
        "    [\n",
        "        r\"(.*)\",\n",
        "        [\"I'm sorry, I didn't understand that. Can you please rephrase?\", \"I'm not sure I follow.\"]\n",
        "    ]\n",
        "]"
      ],
      "metadata": {
        "id": "cs8bnG8CywCh"
      },
      "execution_count": 2,
      "outputs": []
    },
    {
      "cell_type": "code",
      "source": [
        "\n",
        "# Create a ChatBot instance\n",
        "chatbot = Chat(pairs, reflections)"
      ],
      "metadata": {
        "id": "7Q8yl8KNzPj0"
      },
      "execution_count": 3,
      "outputs": []
    },
    {
      "cell_type": "code",
      "source": [
        "# Start conversation with the user\n",
        "print(\"Hi, I'm ChatBot. How can I help you today?\")\n",
        "while True:\n",
        "    user_input = input(\"You: \")\n",
        "    response = chatbot.respond(user_input)\n",
        "    print(\"ChatBot:\", response)\n",
        "    if user_input.lower() == 'quit' or user_input.lower() == 'exit':\n",
        "        break"
      ],
      "metadata": {
        "colab": {
          "base_uri": "https://localhost:8080/"
        },
        "id": "QJjtVSftzWJB",
        "outputId": "858f1d4b-3720-431e-fd83-26c19b8ca557"
      },
      "execution_count": null,
      "outputs": [
        {
          "output_type": "stream",
          "name": "stdout",
          "text": [
            "Hi, I'm ChatBot. How can I help you today?\n",
            "You: hi\n",
            "ChatBot: Hi!\n",
            "You: how are you\n",
            "ChatBot: I'm doing well, thank you!\n",
            "You: what is your name \n",
            "ChatBot: I'm just a simple ChatBot.\n",
            "You: can you help me out \n",
            "ChatBot: I'm sorry, I didn't understand that. Can you please rephrase?\n",
            "You: what can you do\n",
            "ChatBot: I can answer basic questions and engage in conversation.\n"
          ]
        }
      ]
    },
    {
      "cell_type": "code",
      "source": [],
      "metadata": {
        "id": "nYZRseZMzihA"
      },
      "execution_count": null,
      "outputs": []
    }
  ]
}