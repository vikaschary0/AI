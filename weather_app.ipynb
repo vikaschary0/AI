{
  "nbformat": 4,
  "nbformat_minor": 0,
  "metadata": {
    "colab": {
      "provenance": []
    },
    "kernelspec": {
      "name": "python3",
      "display_name": "Python 3"
    },
    "language_info": {
      "name": "python"
    }
  },
  "cells": [
    {
      "cell_type": "code",
      "execution_count": 1,
      "metadata": {
        "colab": {
          "base_uri": "https://localhost:8080/"
        },
        "id": "FyXBxaUlImiD",
        "outputId": "2b51c60e-ed31-4198-de1b-95d3b5551721"
      },
      "outputs": [
        {
          "output_type": "stream",
          "name": "stdout",
          "text": [
            "Enter city name: Hyderabad\n",
            "City not found or weather data not available.\n"
          ]
        }
      ],
      "source": [
        "import requests\n",
        "\n",
        "def get_weather(city, api_key):\n",
        "    url = f\"http://api.openweathermap.org/data/2.5/weather?q={city}&appid={api_key}&units=metric\"\n",
        "    response = requests.get(url)\n",
        "    data = response.json()\n",
        "\n",
        "    if data[\"cod\"] == 200:\n",
        "        weather_info = {\n",
        "            \"city\": data[\"name\"],\n",
        "            \"temperature\": data[\"main\"][\"temp\"],\n",
        "            \"description\": data[\"weather\"][0][\"description\"],\n",
        "        }\n",
        "        return weather_info\n",
        "    else:\n",
        "        return None\n",
        "\n",
        "def main():\n",
        "    api_key = \"YOUR_API_KEY\"  # Replace with your OpenWeatherMap API key\n",
        "    city = input(\"Enter city name: \")\n",
        "\n",
        "    weather_info = get_weather(city, api_key)\n",
        "\n",
        "    if weather_info:\n",
        "        print(f\"Weather in {weather_info['city']}:\")\n",
        "        print(f\"Temperature: {weather_info['temperature']}°C\")\n",
        "        print(f\"Description: {weather_info['description']}\")\n",
        "    else:\n",
        "        print(\"City not found or weather data not available.\")\n",
        "\n",
        "if __name__ == \"__main__\":\n",
        "    main()\n",
        "# i not afforable to buy API key but this is the program for weather app"
      ]
    },
    {
      "cell_type": "code",
      "source": [],
      "metadata": {
        "id": "77YyAfbrJhOX"
      },
      "execution_count": null,
      "outputs": []
    }
  ]
}